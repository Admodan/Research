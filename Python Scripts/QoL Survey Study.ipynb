{
 "cells": [
  {
   "cell_type": "code",
   "execution_count": 12,
   "metadata": {},
   "outputs": [],
   "source": [
    "import pandas as pd\n",
    "import numpy as np\n",
    "import seaborn as sns \n",
    "import matplotlib.pyplot as plt\n",
    "from scipy.stats import mannwhitneyu\n",
    "from pathlib import Path\n",
    "from sklearn.model_selection import train_test_split \n",
    "from sklearn.linear_model import LinearRegression\n",
    "from sklearn import metrics\n",
    "%matplotlib inline\n",
    "from mpl_toolkits.mplot3d import Axes3D\n",
    "from pathlib import Path\n",
    "import os\n"
   ]
  },
  {
   "cell_type": "code",
   "execution_count": 13,
   "metadata": {},
   "outputs": [],
   "source": [
    "dir_path = Path(r'N:\\Research\\DIR for QoL Study\\H&N PRO Spreadsheets')\n",
    "# dir_path = Path(r'C:\\Users\\The Supreme Being\\Documents\\Research\\Head and Neck QoL Project')\n",
    "file_location = Path(dir_path, r'Anonymized Data (Complete - 66-70 Gy).csv')\n"
   ]
  },
  {
   "cell_type": "code",
   "execution_count": 14,
   "metadata": {},
   "outputs": [],
   "source": [
    "#df = pd.read_excel(file_location, index_col=0)\n",
    "df = pd.read_csv(file_location)"
   ]
  },
  {
   "cell_type": "code",
   "execution_count": 15,
   "metadata": {},
   "outputs": [
    {
     "data": {
      "text/html": [
       "<div>\n",
       "<style scoped>\n",
       "    .dataframe tbody tr th:only-of-type {\n",
       "        vertical-align: middle;\n",
       "    }\n",
       "\n",
       "    .dataframe tbody tr th {\n",
       "        vertical-align: top;\n",
       "    }\n",
       "\n",
       "    .dataframe thead th {\n",
       "        text-align: right;\n",
       "    }\n",
       "</style>\n",
       "<table border=\"1\" class=\"dataframe\">\n",
       "  <thead>\n",
       "    <tr style=\"text-align: right;\">\n",
       "      <th></th>\n",
       "      <th>QoLID</th>\n",
       "      <th>MonthsSinceTx</th>\n",
       "      <th>Age</th>\n",
       "      <th>Gender</th>\n",
       "      <th>CancerSite</th>\n",
       "      <th>Tstage</th>\n",
       "      <th>Nstage</th>\n",
       "      <th>ChemoAgent</th>\n",
       "      <th>ECOG</th>\n",
       "      <th>CharlsonScore</th>\n",
       "      <th>...</th>\n",
       "      <th>XQ7</th>\n",
       "      <th>XQ8</th>\n",
       "      <th>XQ_EAT_SUM</th>\n",
       "      <th>XQ_EAT_AVE(</th>\n",
       "      <th>XQ_NOTEAT_SUM</th>\n",
       "      <th>XQ_NOTEAT_AVE</th>\n",
       "      <th>XQ_TOTAL_SUM</th>\n",
       "      <th>XQ_TOTAL_AVE</th>\n",
       "      <th>SubmandIpsInitDmean</th>\n",
       "      <th>SubmandContInitDmean</th>\n",
       "    </tr>\n",
       "  </thead>\n",
       "  <tbody>\n",
       "    <tr>\n",
       "      <th>0</th>\n",
       "      <td>1</td>\n",
       "      <td>3</td>\n",
       "      <td>48</td>\n",
       "      <td>Gender_M</td>\n",
       "      <td>Nasopharynx</td>\n",
       "      <td>T0_T2</td>\n",
       "      <td>N2</td>\n",
       "      <td>Cisplatin</td>\n",
       "      <td>0</td>\n",
       "      <td>2</td>\n",
       "      <td>...</td>\n",
       "      <td>8.0</td>\n",
       "      <td>7.0</td>\n",
       "      <td>19.0</td>\n",
       "      <td>4.75</td>\n",
       "      <td>12.0</td>\n",
       "      <td>3.00</td>\n",
       "      <td>31.0</td>\n",
       "      <td>3.875</td>\n",
       "      <td>NaN</td>\n",
       "      <td>NaN</td>\n",
       "    </tr>\n",
       "    <tr>\n",
       "      <th>1</th>\n",
       "      <td>2</td>\n",
       "      <td>8</td>\n",
       "      <td>67</td>\n",
       "      <td>Gender_M</td>\n",
       "      <td>Oropharynx</td>\n",
       "      <td>T3_T4</td>\n",
       "      <td>N3</td>\n",
       "      <td>Cisplatin</td>\n",
       "      <td>1</td>\n",
       "      <td>4</td>\n",
       "      <td>...</td>\n",
       "      <td>0.0</td>\n",
       "      <td>2.0</td>\n",
       "      <td>0.0</td>\n",
       "      <td>0.00</td>\n",
       "      <td>2.0</td>\n",
       "      <td>0.50</td>\n",
       "      <td>2.0</td>\n",
       "      <td>0.250</td>\n",
       "      <td>NaN</td>\n",
       "      <td>NaN</td>\n",
       "    </tr>\n",
       "    <tr>\n",
       "      <th>2</th>\n",
       "      <td>3</td>\n",
       "      <td>14</td>\n",
       "      <td>47</td>\n",
       "      <td>Gender_M</td>\n",
       "      <td>Oropharynx</td>\n",
       "      <td>T0_T2</td>\n",
       "      <td>N2</td>\n",
       "      <td>Cisplatin</td>\n",
       "      <td>0</td>\n",
       "      <td>2</td>\n",
       "      <td>...</td>\n",
       "      <td>8.0</td>\n",
       "      <td>4.0</td>\n",
       "      <td>13.0</td>\n",
       "      <td>3.25</td>\n",
       "      <td>8.0</td>\n",
       "      <td>2.00</td>\n",
       "      <td>21.0</td>\n",
       "      <td>2.625</td>\n",
       "      <td>NaN</td>\n",
       "      <td>NaN</td>\n",
       "    </tr>\n",
       "    <tr>\n",
       "      <th>3</th>\n",
       "      <td>4</td>\n",
       "      <td>12</td>\n",
       "      <td>34</td>\n",
       "      <td>Gender_F</td>\n",
       "      <td>Nasal Cavity</td>\n",
       "      <td>T3_T4</td>\n",
       "      <td>N0</td>\n",
       "      <td>Cisplatin</td>\n",
       "      <td>0</td>\n",
       "      <td>2</td>\n",
       "      <td>...</td>\n",
       "      <td>3.0</td>\n",
       "      <td>4.0</td>\n",
       "      <td>4.0</td>\n",
       "      <td>1.00</td>\n",
       "      <td>7.0</td>\n",
       "      <td>1.75</td>\n",
       "      <td>11.0</td>\n",
       "      <td>1.375</td>\n",
       "      <td>60.7293</td>\n",
       "      <td>39.5566</td>\n",
       "    </tr>\n",
       "    <tr>\n",
       "      <th>4</th>\n",
       "      <td>6</td>\n",
       "      <td>20</td>\n",
       "      <td>61</td>\n",
       "      <td>Gender_M</td>\n",
       "      <td>Oropharynx</td>\n",
       "      <td>T0_T2</td>\n",
       "      <td>N2</td>\n",
       "      <td>Cisplatin</td>\n",
       "      <td>0</td>\n",
       "      <td>5</td>\n",
       "      <td>...</td>\n",
       "      <td>7.0</td>\n",
       "      <td>0.0</td>\n",
       "      <td>18.0</td>\n",
       "      <td>4.50</td>\n",
       "      <td>3.0</td>\n",
       "      <td>0.75</td>\n",
       "      <td>21.0</td>\n",
       "      <td>2.625</td>\n",
       "      <td>NaN</td>\n",
       "      <td>14.0800</td>\n",
       "    </tr>\n",
       "  </tbody>\n",
       "</table>\n",
       "<p>5 rows × 190 columns</p>\n",
       "</div>"
      ],
      "text/plain": [
       "   QoLID  MonthsSinceTx  Age    Gender    CancerSite Tstage Nstage ChemoAgent  \\\n",
       "0      1              3   48  Gender_M   Nasopharynx  T0_T2     N2  Cisplatin   \n",
       "1      2              8   67  Gender_M    Oropharynx  T3_T4     N3  Cisplatin   \n",
       "2      3             14   47  Gender_M    Oropharynx  T0_T2     N2  Cisplatin   \n",
       "3      4             12   34  Gender_F  Nasal Cavity  T3_T4     N0  Cisplatin   \n",
       "4      6             20   61  Gender_M    Oropharynx  T0_T2     N2  Cisplatin   \n",
       "\n",
       "   ECOG  CharlsonScore  ...  XQ7  XQ8 XQ_EAT_SUM XQ_EAT_AVE(  XQ_NOTEAT_SUM  \\\n",
       "0     0              2  ...  8.0  7.0       19.0        4.75           12.0   \n",
       "1     1              4  ...  0.0  2.0        0.0        0.00            2.0   \n",
       "2     0              2  ...  8.0  4.0       13.0        3.25            8.0   \n",
       "3     0              2  ...  3.0  4.0        4.0        1.00            7.0   \n",
       "4     0              5  ...  7.0  0.0       18.0        4.50            3.0   \n",
       "\n",
       "   XQ_NOTEAT_AVE  XQ_TOTAL_SUM  XQ_TOTAL_AVE  SubmandIpsInitDmean  \\\n",
       "0           3.00          31.0         3.875                  NaN   \n",
       "1           0.50           2.0         0.250                  NaN   \n",
       "2           2.00          21.0         2.625                  NaN   \n",
       "3           1.75          11.0         1.375              60.7293   \n",
       "4           0.75          21.0         2.625                  NaN   \n",
       "\n",
       "   SubmandContInitDmean  \n",
       "0                   NaN  \n",
       "1                   NaN  \n",
       "2                   NaN  \n",
       "3               39.5566  \n",
       "4               14.0800  \n",
       "\n",
       "[5 rows x 190 columns]"
      ]
     },
     "execution_count": 15,
     "metadata": {},
     "output_type": "execute_result"
    }
   ],
   "source": [
    "df.head(5)"
   ]
  },
  {
   "cell_type": "markdown",
   "metadata": {},
   "source": [
    "MDASI Symptom burder: none (item rating of 0); mild (1 to 4); moderate (5 to 6); or severe (7 to 10) \n",
    "Summary scores for each of the core, head and neck, and interference subgroups are defined by the maximum rating of any item within that subgroup. Subgroup symptom burden is interpreted as: none (all items rated 0); mild (all items rated <5 with at least one item rated ≥1); moderate (all items rated <7 with at least one item rate ≥5); severe (at least one item rated ≥7).\n",
    "\n",
    "MDADI has Emptional (E), Physical (P), and Functional (F). Physical swallowing ability (8 items), functional impact of swallowing dysfunction (5 items), emotional impact (6 items), and the general influence of swallowing ability on daily life (1 item)\n",
    "Rated on 5 point scale; strongly agree to strongly disagree\n",
    "Values were concerted to 1-5, summed, then normalized to 100. With this conversion, MDADI scores are interpreted as: minimal (summary score of 0 to 19), mild (20 to 39), moderate (40 to 59), severe (60 to 79), and profound (80 to 100) \n",
    "\n",
    "XQ rated 8 questions on eating (4), not eating (4). Sarah totaled then normalized out of 100 in her paper."
   ]
  },
  {
   "cell_type": "code",
   "execution_count": 16,
   "metadata": {},
   "outputs": [
    {
     "data": {
      "text/plain": [
       "count    154.000000\n",
       "mean      44.311688\n",
       "std       14.657983\n",
       "min       20.000000\n",
       "25%       32.250000\n",
       "50%       43.000000\n",
       "75%       54.000000\n",
       "max       80.000000\n",
       "Name: MDADI_TOTAL_SUM, dtype: float64"
      ]
     },
     "execution_count": 16,
     "metadata": {},
     "output_type": "execute_result"
    }
   ],
   "source": [
    "df['MDADI_TOTAL_SUM'].describe()"
   ]
  },
  {
   "cell_type": "markdown",
   "metadata": {},
   "source": []
  },
  {
   "cell_type": "markdown",
   "metadata": {},
   "source": [
    "### Read the questions into their own dataframes"
   ]
  },
  {
   "cell_type": "code",
   "execution_count": 17,
   "metadata": {},
   "outputs": [],
   "source": [
    "df_MDASI = df.loc[:,'MDASI1':'MDASI_TOTAL_AVE']\n",
    "df_MDADI = df.loc[:, 'MDADI1':'MDADI_TOTAL_AVE']\n",
    "df_XQ = df.loc[:, 'XQ1':'XQ_TOTAL_AVE']"
   ]
  },
  {
   "cell_type": "code",
   "execution_count": 18,
   "metadata": {},
   "outputs": [
    {
     "data": {
      "text/html": [
       "<div>\n",
       "<style scoped>\n",
       "    .dataframe tbody tr th:only-of-type {\n",
       "        vertical-align: middle;\n",
       "    }\n",
       "\n",
       "    .dataframe tbody tr th {\n",
       "        vertical-align: top;\n",
       "    }\n",
       "\n",
       "    .dataframe thead th {\n",
       "        text-align: right;\n",
       "    }\n",
       "</style>\n",
       "<table border=\"1\" class=\"dataframe\">\n",
       "  <thead>\n",
       "    <tr style=\"text-align: right;\">\n",
       "      <th></th>\n",
       "      <th>MDASI1</th>\n",
       "      <th>MDASI2</th>\n",
       "      <th>MDASI3</th>\n",
       "      <th>MDASI4</th>\n",
       "      <th>MDASI5</th>\n",
       "      <th>MDASI6</th>\n",
       "      <th>MDASI7</th>\n",
       "      <th>MDASI8</th>\n",
       "      <th>MDASI9</th>\n",
       "      <th>MDASI10</th>\n",
       "      <th>...</th>\n",
       "      <th>MDASI27</th>\n",
       "      <th>MDASI28</th>\n",
       "      <th>MDASI_CORE_SUM</th>\n",
       "      <th>MDASI_CORE_AVE</th>\n",
       "      <th>MDASI_HN_SUM</th>\n",
       "      <th>MDASI_HN_AVE</th>\n",
       "      <th>MDASI_INT_SUM</th>\n",
       "      <th>MDASI_INT_AVE</th>\n",
       "      <th>MDASI_TOTAL_SUM</th>\n",
       "      <th>MDASI_TOTAL_AVE</th>\n",
       "    </tr>\n",
       "  </thead>\n",
       "  <tbody>\n",
       "    <tr>\n",
       "      <th>0</th>\n",
       "      <td>0</td>\n",
       "      <td>1</td>\n",
       "      <td>0</td>\n",
       "      <td>0</td>\n",
       "      <td>0</td>\n",
       "      <td>0</td>\n",
       "      <td>0</td>\n",
       "      <td>0.0</td>\n",
       "      <td>0</td>\n",
       "      <td>4</td>\n",
       "      <td>...</td>\n",
       "      <td>0</td>\n",
       "      <td>1</td>\n",
       "      <td>5</td>\n",
       "      <td>0.384615</td>\n",
       "      <td>10</td>\n",
       "      <td>1.111111</td>\n",
       "      <td>2</td>\n",
       "      <td>0.333333</td>\n",
       "      <td>17</td>\n",
       "      <td>0.607143</td>\n",
       "    </tr>\n",
       "    <tr>\n",
       "      <th>1</th>\n",
       "      <td>0</td>\n",
       "      <td>7</td>\n",
       "      <td>0</td>\n",
       "      <td>0</td>\n",
       "      <td>0</td>\n",
       "      <td>5</td>\n",
       "      <td>2</td>\n",
       "      <td>5.0</td>\n",
       "      <td>5</td>\n",
       "      <td>0</td>\n",
       "      <td>...</td>\n",
       "      <td>7</td>\n",
       "      <td>0</td>\n",
       "      <td>28</td>\n",
       "      <td>2.153846</td>\n",
       "      <td>5</td>\n",
       "      <td>0.555556</td>\n",
       "      <td>29</td>\n",
       "      <td>4.833333</td>\n",
       "      <td>62</td>\n",
       "      <td>2.214286</td>\n",
       "    </tr>\n",
       "    <tr>\n",
       "      <th>2</th>\n",
       "      <td>0</td>\n",
       "      <td>0</td>\n",
       "      <td>0</td>\n",
       "      <td>0</td>\n",
       "      <td>0</td>\n",
       "      <td>0</td>\n",
       "      <td>0</td>\n",
       "      <td>0.0</td>\n",
       "      <td>0</td>\n",
       "      <td>4</td>\n",
       "      <td>...</td>\n",
       "      <td>0</td>\n",
       "      <td>0</td>\n",
       "      <td>4</td>\n",
       "      <td>0.307692</td>\n",
       "      <td>12</td>\n",
       "      <td>1.333333</td>\n",
       "      <td>0</td>\n",
       "      <td>0.000000</td>\n",
       "      <td>16</td>\n",
       "      <td>0.571429</td>\n",
       "    </tr>\n",
       "    <tr>\n",
       "      <th>3</th>\n",
       "      <td>0</td>\n",
       "      <td>2</td>\n",
       "      <td>0</td>\n",
       "      <td>0</td>\n",
       "      <td>0</td>\n",
       "      <td>0</td>\n",
       "      <td>2</td>\n",
       "      <td>0.0</td>\n",
       "      <td>0</td>\n",
       "      <td>2</td>\n",
       "      <td>...</td>\n",
       "      <td>2</td>\n",
       "      <td>1</td>\n",
       "      <td>7</td>\n",
       "      <td>0.538462</td>\n",
       "      <td>1</td>\n",
       "      <td>0.111111</td>\n",
       "      <td>5</td>\n",
       "      <td>0.833333</td>\n",
       "      <td>13</td>\n",
       "      <td>0.464286</td>\n",
       "    </tr>\n",
       "    <tr>\n",
       "      <th>4</th>\n",
       "      <td>0</td>\n",
       "      <td>0</td>\n",
       "      <td>0</td>\n",
       "      <td>0</td>\n",
       "      <td>0</td>\n",
       "      <td>0</td>\n",
       "      <td>0</td>\n",
       "      <td>0.0</td>\n",
       "      <td>0</td>\n",
       "      <td>0</td>\n",
       "      <td>...</td>\n",
       "      <td>0</td>\n",
       "      <td>0</td>\n",
       "      <td>0</td>\n",
       "      <td>0.000000</td>\n",
       "      <td>10</td>\n",
       "      <td>1.111111</td>\n",
       "      <td>0</td>\n",
       "      <td>0.000000</td>\n",
       "      <td>10</td>\n",
       "      <td>0.357143</td>\n",
       "    </tr>\n",
       "  </tbody>\n",
       "</table>\n",
       "<p>5 rows × 36 columns</p>\n",
       "</div>"
      ],
      "text/plain": [
       "   MDASI1  MDASI2  MDASI3  MDASI4  MDASI5  MDASI6  MDASI7  MDASI8  MDASI9  \\\n",
       "0       0       1       0       0       0       0       0     0.0       0   \n",
       "1       0       7       0       0       0       5       2     5.0       5   \n",
       "2       0       0       0       0       0       0       0     0.0       0   \n",
       "3       0       2       0       0       0       0       2     0.0       0   \n",
       "4       0       0       0       0       0       0       0     0.0       0   \n",
       "\n",
       "   MDASI10  ...  MDASI27  MDASI28  MDASI_CORE_SUM  MDASI_CORE_AVE  \\\n",
       "0        4  ...        0        1               5        0.384615   \n",
       "1        0  ...        7        0              28        2.153846   \n",
       "2        4  ...        0        0               4        0.307692   \n",
       "3        2  ...        2        1               7        0.538462   \n",
       "4        0  ...        0        0               0        0.000000   \n",
       "\n",
       "   MDASI_HN_SUM  MDASI_HN_AVE  MDASI_INT_SUM  MDASI_INT_AVE  MDASI_TOTAL_SUM  \\\n",
       "0            10      1.111111              2       0.333333               17   \n",
       "1             5      0.555556             29       4.833333               62   \n",
       "2            12      1.333333              0       0.000000               16   \n",
       "3             1      0.111111              5       0.833333               13   \n",
       "4            10      1.111111              0       0.000000               10   \n",
       "\n",
       "   MDASI_TOTAL_AVE  \n",
       "0         0.607143  \n",
       "1         2.214286  \n",
       "2         0.571429  \n",
       "3         0.464286  \n",
       "4         0.357143  \n",
       "\n",
       "[5 rows x 36 columns]"
      ]
     },
     "execution_count": 18,
     "metadata": {},
     "output_type": "execute_result"
    }
   ],
   "source": [
    "df_MDASI.head()"
   ]
  },
  {
   "cell_type": "markdown",
   "metadata": {},
   "source": [
    "### Read in data exported from RStudio to .csv. MDADI and XQ have been normalized to 100. MDASI has not been normalized. Scoring for the MDASI categories such as MDASI_CORE are done by taking the highest value from the corresponding group of questions. This is different than the summation performed in df_MDASI "
   ]
  },
  {
   "cell_type": "code",
   "execution_count": 21,
   "metadata": {},
   "outputs": [],
   "source": [
    "# MDADI_norm = pd.read_csv(Path(dir_path, r'MDADI_Combined.csv'))\n",
    "# MDASI_combined = pd.read_csv(Path(dir_path, r'MDASI_Combined.csv'))\n",
    "# XQ_sum = df_XQ.loc[:,['XQ_EAT_SUM', 'XQ_NOTEAT_SUM', 'XQ_TOTAL_SUM']]\n",
    "# XQ_norm = XQ_sum[['XQ_EAT_SUM','XQ_NOTEAT_SUM']]*100/40 \n",
    "# XQ_norm = pd.concat([XQ_norm, XQ_sum['XQ_TOTAL_SUM']*100/80], axis=1)"
   ]
  },
  {
   "cell_type": "code",
   "execution_count": 23,
   "metadata": {},
   "outputs": [],
   "source": [
    "# MDASI_combined.head()"
   ]
  },
  {
   "cell_type": "code",
   "execution_count": 24,
   "metadata": {},
   "outputs": [
    {
     "data": {
      "text/html": [
       "<div>\n",
       "<style scoped>\n",
       "    .dataframe tbody tr th:only-of-type {\n",
       "        vertical-align: middle;\n",
       "    }\n",
       "\n",
       "    .dataframe tbody tr th {\n",
       "        vertical-align: top;\n",
       "    }\n",
       "\n",
       "    .dataframe thead th {\n",
       "        text-align: right;\n",
       "    }\n",
       "</style>\n",
       "<table border=\"1\" class=\"dataframe\">\n",
       "  <thead>\n",
       "    <tr style=\"text-align: right;\">\n",
       "      <th></th>\n",
       "      <th>MDASI1</th>\n",
       "      <th>MDASI2</th>\n",
       "      <th>MDASI3</th>\n",
       "      <th>MDASI4</th>\n",
       "      <th>MDASI5</th>\n",
       "      <th>MDASI6</th>\n",
       "      <th>MDASI7</th>\n",
       "      <th>MDASI8</th>\n",
       "      <th>MDASI9</th>\n",
       "      <th>MDASI10</th>\n",
       "      <th>...</th>\n",
       "      <th>MDASI27</th>\n",
       "      <th>MDASI28</th>\n",
       "      <th>MDASI_CORE_SUM</th>\n",
       "      <th>MDASI_CORE_AVE</th>\n",
       "      <th>MDASI_HN_SUM</th>\n",
       "      <th>MDASI_HN_AVE</th>\n",
       "      <th>MDASI_INT_SUM</th>\n",
       "      <th>MDASI_INT_AVE</th>\n",
       "      <th>MDASI_TOTAL_SUM</th>\n",
       "      <th>MDASI_TOTAL_AVE</th>\n",
       "    </tr>\n",
       "  </thead>\n",
       "  <tbody>\n",
       "    <tr>\n",
       "      <th>0</th>\n",
       "      <td>0</td>\n",
       "      <td>1</td>\n",
       "      <td>0</td>\n",
       "      <td>0</td>\n",
       "      <td>0</td>\n",
       "      <td>0</td>\n",
       "      <td>0</td>\n",
       "      <td>0.0</td>\n",
       "      <td>0</td>\n",
       "      <td>4</td>\n",
       "      <td>...</td>\n",
       "      <td>0</td>\n",
       "      <td>1</td>\n",
       "      <td>5</td>\n",
       "      <td>0.384615</td>\n",
       "      <td>10</td>\n",
       "      <td>1.111111</td>\n",
       "      <td>2</td>\n",
       "      <td>0.333333</td>\n",
       "      <td>17</td>\n",
       "      <td>0.607143</td>\n",
       "    </tr>\n",
       "    <tr>\n",
       "      <th>1</th>\n",
       "      <td>0</td>\n",
       "      <td>7</td>\n",
       "      <td>0</td>\n",
       "      <td>0</td>\n",
       "      <td>0</td>\n",
       "      <td>5</td>\n",
       "      <td>2</td>\n",
       "      <td>5.0</td>\n",
       "      <td>5</td>\n",
       "      <td>0</td>\n",
       "      <td>...</td>\n",
       "      <td>7</td>\n",
       "      <td>0</td>\n",
       "      <td>28</td>\n",
       "      <td>2.153846</td>\n",
       "      <td>5</td>\n",
       "      <td>0.555556</td>\n",
       "      <td>29</td>\n",
       "      <td>4.833333</td>\n",
       "      <td>62</td>\n",
       "      <td>2.214286</td>\n",
       "    </tr>\n",
       "    <tr>\n",
       "      <th>2</th>\n",
       "      <td>0</td>\n",
       "      <td>0</td>\n",
       "      <td>0</td>\n",
       "      <td>0</td>\n",
       "      <td>0</td>\n",
       "      <td>0</td>\n",
       "      <td>0</td>\n",
       "      <td>0.0</td>\n",
       "      <td>0</td>\n",
       "      <td>4</td>\n",
       "      <td>...</td>\n",
       "      <td>0</td>\n",
       "      <td>0</td>\n",
       "      <td>4</td>\n",
       "      <td>0.307692</td>\n",
       "      <td>12</td>\n",
       "      <td>1.333333</td>\n",
       "      <td>0</td>\n",
       "      <td>0.000000</td>\n",
       "      <td>16</td>\n",
       "      <td>0.571429</td>\n",
       "    </tr>\n",
       "    <tr>\n",
       "      <th>3</th>\n",
       "      <td>0</td>\n",
       "      <td>2</td>\n",
       "      <td>0</td>\n",
       "      <td>0</td>\n",
       "      <td>0</td>\n",
       "      <td>0</td>\n",
       "      <td>2</td>\n",
       "      <td>0.0</td>\n",
       "      <td>0</td>\n",
       "      <td>2</td>\n",
       "      <td>...</td>\n",
       "      <td>2</td>\n",
       "      <td>1</td>\n",
       "      <td>7</td>\n",
       "      <td>0.538462</td>\n",
       "      <td>1</td>\n",
       "      <td>0.111111</td>\n",
       "      <td>5</td>\n",
       "      <td>0.833333</td>\n",
       "      <td>13</td>\n",
       "      <td>0.464286</td>\n",
       "    </tr>\n",
       "    <tr>\n",
       "      <th>4</th>\n",
       "      <td>0</td>\n",
       "      <td>0</td>\n",
       "      <td>0</td>\n",
       "      <td>0</td>\n",
       "      <td>0</td>\n",
       "      <td>0</td>\n",
       "      <td>0</td>\n",
       "      <td>0.0</td>\n",
       "      <td>0</td>\n",
       "      <td>0</td>\n",
       "      <td>...</td>\n",
       "      <td>0</td>\n",
       "      <td>0</td>\n",
       "      <td>0</td>\n",
       "      <td>0.000000</td>\n",
       "      <td>10</td>\n",
       "      <td>1.111111</td>\n",
       "      <td>0</td>\n",
       "      <td>0.000000</td>\n",
       "      <td>10</td>\n",
       "      <td>0.357143</td>\n",
       "    </tr>\n",
       "  </tbody>\n",
       "</table>\n",
       "<p>5 rows × 36 columns</p>\n",
       "</div>"
      ],
      "text/plain": [
       "   MDASI1  MDASI2  MDASI3  MDASI4  MDASI5  MDASI6  MDASI7  MDASI8  MDASI9  \\\n",
       "0       0       1       0       0       0       0       0     0.0       0   \n",
       "1       0       7       0       0       0       5       2     5.0       5   \n",
       "2       0       0       0       0       0       0       0     0.0       0   \n",
       "3       0       2       0       0       0       0       2     0.0       0   \n",
       "4       0       0       0       0       0       0       0     0.0       0   \n",
       "\n",
       "   MDASI10  ...  MDASI27  MDASI28  MDASI_CORE_SUM  MDASI_CORE_AVE  \\\n",
       "0        4  ...        0        1               5        0.384615   \n",
       "1        0  ...        7        0              28        2.153846   \n",
       "2        4  ...        0        0               4        0.307692   \n",
       "3        2  ...        2        1               7        0.538462   \n",
       "4        0  ...        0        0               0        0.000000   \n",
       "\n",
       "   MDASI_HN_SUM  MDASI_HN_AVE  MDASI_INT_SUM  MDASI_INT_AVE  MDASI_TOTAL_SUM  \\\n",
       "0            10      1.111111              2       0.333333               17   \n",
       "1             5      0.555556             29       4.833333               62   \n",
       "2            12      1.333333              0       0.000000               16   \n",
       "3             1      0.111111              5       0.833333               13   \n",
       "4            10      1.111111              0       0.000000               10   \n",
       "\n",
       "   MDASI_TOTAL_AVE  \n",
       "0         0.607143  \n",
       "1         2.214286  \n",
       "2         0.571429  \n",
       "3         0.464286  \n",
       "4         0.357143  \n",
       "\n",
       "[5 rows x 36 columns]"
      ]
     },
     "execution_count": 24,
     "metadata": {},
     "output_type": "execute_result"
    }
   ],
   "source": [
    "df_MDASI.head()"
   ]
  },
  {
   "cell_type": "code",
   "execution_count": 25,
   "metadata": {},
   "outputs": [],
   "source": [
    "#Remove patients who have not completed all questions\n",
    "df_filtered = df.dropna(subset=['MDADI16', 'XQ1'])"
   ]
  },
  {
   "cell_type": "code",
   "execution_count": 26,
   "metadata": {},
   "outputs": [
    {
     "data": {
      "text/html": [
       "<div>\n",
       "<style scoped>\n",
       "    .dataframe tbody tr th:only-of-type {\n",
       "        vertical-align: middle;\n",
       "    }\n",
       "\n",
       "    .dataframe tbody tr th {\n",
       "        vertical-align: top;\n",
       "    }\n",
       "\n",
       "    .dataframe thead th {\n",
       "        text-align: right;\n",
       "    }\n",
       "</style>\n",
       "<table border=\"1\" class=\"dataframe\">\n",
       "  <thead>\n",
       "    <tr style=\"text-align: right;\">\n",
       "      <th></th>\n",
       "      <th>MDADI16</th>\n",
       "      <th>MDADI17</th>\n",
       "      <th>MDADI18</th>\n",
       "      <th>MDADI19</th>\n",
       "    </tr>\n",
       "  </thead>\n",
       "  <tbody>\n",
       "    <tr>\n",
       "      <th>count</th>\n",
       "      <td>151</td>\n",
       "      <td>151</td>\n",
       "      <td>151</td>\n",
       "      <td>151</td>\n",
       "    </tr>\n",
       "    <tr>\n",
       "      <th>unique</th>\n",
       "      <td>1</td>\n",
       "      <td>1</td>\n",
       "      <td>1</td>\n",
       "      <td>1</td>\n",
       "    </tr>\n",
       "    <tr>\n",
       "      <th>top</th>\n",
       "      <td>False</td>\n",
       "      <td>False</td>\n",
       "      <td>False</td>\n",
       "      <td>False</td>\n",
       "    </tr>\n",
       "    <tr>\n",
       "      <th>freq</th>\n",
       "      <td>151</td>\n",
       "      <td>151</td>\n",
       "      <td>151</td>\n",
       "      <td>151</td>\n",
       "    </tr>\n",
       "  </tbody>\n",
       "</table>\n",
       "</div>"
      ],
      "text/plain": [
       "       MDADI16 MDADI17 MDADI18 MDADI19\n",
       "count      151     151     151     151\n",
       "unique       1       1       1       1\n",
       "top      False   False   False   False\n",
       "freq       151     151     151     151"
      ]
     },
     "execution_count": 26,
     "metadata": {},
     "output_type": "execute_result"
    }
   ],
   "source": [
    "#Check to see if there are any other patients who have not completed all questions.\n",
    "df_filtered.loc[:, 'MDADI16':'MDADI19'].isnull().describe()\n"
   ]
  },
  {
   "cell_type": "code",
   "execution_count": 27,
   "metadata": {},
   "outputs": [
    {
     "data": {
      "text/plain": [
       "1.0    48\n",
       "2.0    42\n",
       "4.0    34\n",
       "5.0    15\n",
       "3.0    12\n",
       "Name: MDADI16, dtype: int64"
      ]
     },
     "execution_count": 27,
     "metadata": {},
     "output_type": "execute_result"
    }
   ],
   "source": [
    "df_filtered['MDADI16'].value_counts()"
   ]
  },
  {
   "cell_type": "code",
   "execution_count": 28,
   "metadata": {},
   "outputs": [
    {
     "data": {
      "image/png": "[encoded data removed]",
      "text/plain": [
       "<Figure size 432x288 with 1 Axes>"
      ]
     },
     "metadata": {
      "needs_background": "light"
     },
     "output_type": "display_data"
    }
   ],
   "source": [
    "x = df_filtered['MDASI_TOTAL_SUM']\n",
    "y = df_filtered['MDADI_TOTAL_SUM']\n",
    "z = df_filtered['XQ_TOTAL_SUM']\n",
    "plt.scatter(x,y)\n",
    "plt.xlabel('MDASI_TOTAL_SUM')\n",
    "plt.ylabel('MDADI_TOTAL_SUM')\n",
    "plt.title('MDASI vs MDADI')\n",
    "\n",
    "plt.show()"
   ]
  },
  {
   "cell_type": "code",
   "execution_count": 29,
   "metadata": {},
   "outputs": [
    {
     "data": {
      "text/plain": [
       "count    151.000000\n",
       "mean      45.536424\n",
       "std       47.413609\n",
       "min        0.000000\n",
       "25%       11.000000\n",
       "50%       29.000000\n",
       "75%       63.500000\n",
       "max      226.000000\n",
       "Name: MDASI_TOTAL_SUM, dtype: float64"
      ]
     },
     "execution_count": 29,
     "metadata": {},
     "output_type": "execute_result"
    }
   ],
   "source": [
    "df_filtered['MDASI_TOTAL_SUM'].describe()"
   ]
  },
  {
   "cell_type": "code",
   "execution_count": 30,
   "metadata": {},
   "outputs": [
    {
     "data": {
      "text/plain": [
       "<matplotlib.legend.Legend at 0x2b4a8188>"
      ]
     },
     "execution_count": 30,
     "metadata": {},
     "output_type": "execute_result"
    },
    {
     "data": {
      "image/png": "[encoded data removed]",
      "text/plain": [
       "<Figure size 432x288 with 1 Axes>"
      ]
     },
     "metadata": {
      "needs_background": "light"
     },
     "output_type": "display_data"
    }
   ],
   "source": [
    "kwargs = dict(alpha=0.5, bins=100)\n",
    "plt.hist(x, **kwargs, label='MDADI_TOTAL_SUM')\n",
    "plt.hist(y, **kwargs, label='MDASI_TOTAL_SUM')\n",
    "plt.gca().set(title='Frequency Histogram', xlabel = 'instrument Score', ylabel='Frequency');\n",
    "plt.legend()"
   ]
  },
  {
   "cell_type": "code",
   "execution_count": 31,
   "metadata": {},
   "outputs": [
    {
     "data": {
      "text/plain": [
       "<matplotlib.legend.Legend at 0x2b75bb88>"
      ]
     },
     "execution_count": 31,
     "metadata": {},
     "output_type": "execute_result"
    },
    {
     "data": {
      "image/png": "[encoded data removed]",
      "text/plain": [
       "<Figure size 432x288 with 1 Axes>"
      ]
     },
     "metadata": {
      "needs_background": "light"
     },
     "output_type": "display_data"
    }
   ],
   "source": [
    "kwargs = dict(alpha=0.5, bins=100, density=True, stacked=True)\n",
    "plt.hist(x, **kwargs, label='MDADI_TOTAL_SUM')\n",
    "plt.hist(y, **kwargs, label='MDASI_TOTAL_SUM')\n",
    "plt.gca().set(title='Normalized Frequency Histogram', xlabel = 'Score', ylabel='Frequency');\n",
    "plt.legend()"
   ]
  },
  {
   "cell_type": "code",
   "execution_count": 32,
   "metadata": {},
   "outputs": [
    {
     "data": {
      "image/png": "[encoded data removed]",
      "text/plain": [
       "<Figure size 432x288 with 1 Axes>"
      ]
     },
     "metadata": {
      "needs_background": "light"
     },
     "output_type": "display_data"
    }
   ],
   "source": [
    "# plt.xlabel('MDASI_TOTAL_SUM')\n",
    "# plt.ylabel('XQ_TOTAL_SUM')\n",
    "plt.title('MDASI vs XQ')\n",
    "plt.scatter(x,y, label='MDASI vs MDADI')\n",
    "plt.scatter(x,z, label= 'MDASI vs XQ')\n",
    "plt.scatter(y,z, label='MDADI vs XQ')\n",
    "plt.legend()\n",
    "plt.show()\n"
   ]
  },
  {
   "cell_type": "code",
   "execution_count": 33,
   "metadata": {},
   "outputs": [
    {
     "data": {
      "image/png": "[encoded data removed]",
      "text/plain": [
       "<Figure size 432x288 with 2 Axes>"
      ]
     },
     "metadata": {
      "needs_background": "light"
     },
     "output_type": "display_data"
    }
   ],
   "source": [
    "# Make the plot\n",
    "plt.hexbin(x, y, gridsize=(15,15) )\n",
    "plt.colorbar()\n",
    "plt.title('MDASI vs MDADI')\n",
    "plt.show()"
   ]
  },
  {
   "cell_type": "code",
   "execution_count": 34,
   "metadata": {},
   "outputs": [
    {
     "data": {
      "image/png": "[encoded data removed]",
      "text/plain": [
       "<Figure size 576x576 with 1 Axes>"
      ]
     },
     "metadata": {
      "needs_background": "light"
     },
     "output_type": "display_data"
    }
   ],
   "source": [
    "fig = plt.figure(figsize=(8,8))\n",
    "ax = fig.add_subplot(111, projection='3d')\n",
    "ax.scatter3D(x,y,z)\n",
    "ax.set_xlabel('MDASI')\n",
    "ax.set_ylabel('MDADI')\n",
    "ax.set_zlabel('XQ')\n",
    "plt.show()"
   ]
  },
  {
   "cell_type": "code",
   "execution_count": null,
   "metadata": {},
   "outputs": [],
   "source": []
  },
  {
   "cell_type": "code",
   "execution_count": null,
   "metadata": {},
   "outputs": [],
   "source": []
  },
  {
   "cell_type": "code",
   "execution_count": 35,
   "metadata": {},
   "outputs": [
    {
     "data": {
      "text/plain": [
       "<matplotlib.axes._subplots.AxesSubplot at 0x291a9f48>"
      ]
     },
     "execution_count": 35,
     "metadata": {},
     "output_type": "execute_result"
    },
    {
     "data": {
      "image/png": "[encoded data removed]",
      "text/plain": [
       "<Figure size 1080x720 with 1 Axes>"
      ]
     },
     "metadata": {
      "needs_background": "light"
     },
     "output_type": "display_data"
    }
   ],
   "source": [
    "plt.figure(figsize=(15,10))\n",
    "plt.tight_layout()\n",
    "sns.distplot(df['MDADI_TOTAL_SUM'])"
   ]
  },
  {
   "cell_type": "code",
   "execution_count": 36,
   "metadata": {},
   "outputs": [],
   "source": [
    "X = df_filtered['MDADI_TOTAL_SUM'].values.reshape(-1,1)\n",
    "y = df_filtered['MDASI_TOTAL_SUM'].values.reshape(-1,1)"
   ]
  },
  {
   "cell_type": "code",
   "execution_count": 37,
   "metadata": {},
   "outputs": [],
   "source": [
    "X_train, X_test, y_train, y_test = train_test_split(X, y, test_size=0.2, random_state=0)"
   ]
  },
  {
   "cell_type": "code",
   "execution_count": 38,
   "metadata": {},
   "outputs": [
    {
     "data": {
      "text/plain": [
       "LinearRegression(copy_X=True, fit_intercept=True, n_jobs=None, normalize=False)"
      ]
     },
     "execution_count": 38,
     "metadata": {},
     "output_type": "execute_result"
    }
   ],
   "source": [
    "regressor = LinearRegression()  \n",
    "regressor.fit(X_train, y_train) #training the algorithm"
   ]
  },
  {
   "cell_type": "code",
   "execution_count": 39,
   "metadata": {},
   "outputs": [
    {
     "name": "stdout",
     "output_type": "stream",
     "text": [
      "[-42.94023942]\n",
      "[[2.08296421]]\n"
     ]
    }
   ],
   "source": [
    "#To retrieve the intercept:\n",
    "print(regressor.intercept_)#For retrieving the slope:\n",
    "print(regressor.coef_)"
   ]
  },
  {
   "cell_type": "code",
   "execution_count": 40,
   "metadata": {},
   "outputs": [],
   "source": [
    "y_pred = regressor.predict(X_test)"
   ]
  },
  {
   "cell_type": "code",
   "execution_count": 41,
   "metadata": {},
   "outputs": [],
   "source": [
    "df_ml = pd.DataFrame({'Actual': y_test.flatten(), 'Predicted': y_pred.flatten()})\n"
   ]
  },
  {
   "cell_type": "code",
   "execution_count": 42,
   "metadata": {},
   "outputs": [
    {
     "data": {
      "image/png": "[encoded data removed]",
      "text/plain": [
       "<Figure size 720x720 with 1 Axes>"
      ]
     },
     "metadata": {
      "needs_background": "light"
     },
     "output_type": "display_data"
    }
   ],
   "source": [
    "df1 = df_ml.head(50)\n",
    "df1.plot(kind='bar',figsize=(10,10))\n",
    "plt.grid(which='major', linestyle='-', linewidth='0.5', color='green')\n",
    "plt.grid(which='minor', linestyle=':', linewidth='0.5', color='black')\n",
    "plt.show()"
   ]
  },
  {
   "cell_type": "code",
   "execution_count": 43,
   "metadata": {},
   "outputs": [
    {
     "data": {
      "image/png": "[encoded data removed]",
      "text/plain": [
       "<Figure size 432x288 with 1 Axes>"
      ]
     },
     "metadata": {
      "needs_background": "light"
     },
     "output_type": "display_data"
    }
   ],
   "source": [
    "plt.scatter(X_test, y_test,  color='gray')\n",
    "plt.plot(X_test, y_pred, color='red', linewidth=2)\n",
    "plt.show()"
   ]
  },
  {
   "cell_type": "code",
   "execution_count": 44,
   "metadata": {},
   "outputs": [
    {
     "name": "stdout",
     "output_type": "stream",
     "text": [
      "Mean Absolute Error: 24.93670083567262\n",
      "Mean Squared Error: 1072.8987264913014\n",
      "Root Mean Squared Error: 32.755132826647205\n"
     ]
    }
   ],
   "source": [
    "print('Mean Absolute Error:', metrics.mean_absolute_error(y_test, y_pred))  \n",
    "print('Mean Squared Error:', metrics.mean_squared_error(y_test, y_pred))  \n",
    "print('Root Mean Squared Error:', np.sqrt(metrics.mean_squared_error(y_test, y_pred)))"
   ]
  },
  {
   "cell_type": "code",
   "execution_count": 45,
   "metadata": {},
   "outputs": [],
   "source": [
    "survey_df = df_filtered.loc[:, 'MDASI1':]"
   ]
  },
  {
   "cell_type": "code",
   "execution_count": 46,
   "metadata": {},
   "outputs": [
    {
     "data": {
      "text/plain": [
       "Index(['MDASI1', 'MDASI2', 'MDASI3', 'MDASI4', 'MDASI5', 'MDASI6', 'MDASI7',\n",
       "       'MDASI8', 'MDASI9', 'MDASI10', 'MDASI11', 'MDASI12', 'MDASI13',\n",
       "       'MDASI14', 'MDASI15', 'MDASI16', 'MDASI17', 'MDASI18', 'MDASI19',\n",
       "       'MDASI20', 'MDASI21', 'MDASI22', 'MDASI23', 'MDASI24', 'MDASI25',\n",
       "       'MDASI26', 'MDASI27', 'MDASI28', 'MDASI_CORE_SUM', 'MDASI_CORE_AVE',\n",
       "       'MDASI_HN_SUM', 'MDASI_HN_AVE', 'MDASI_INT_SUM', 'MDASI_INT_AVE',\n",
       "       'MDASI_TOTAL_SUM', 'MDASI_TOTAL_AVE', 'MDADI1', 'MDADI2', 'MDADI3',\n",
       "       'MDADI4', 'MDADI5', 'MDADI6', 'MDADI7', 'MDADI8', 'MDADI9', 'MDADI10',\n",
       "       'MDADI11', 'MDADI12', 'MDADI13', 'MDADI14', 'MDADI15', 'MDADI16',\n",
       "       'MDADI17', 'MDADI18', 'MDADI19', 'MDADI20', 'MDADI_E_SUM',\n",
       "       'MDADI_E_AVE', 'MDADI_F_SUM', 'MDADI_F_AVE', 'MDADI_P_SUM',\n",
       "       'MDADI_P_AVE', 'MDADI_TOTAL_SUM', 'MDADI_TOTAL_AVE', 'XQ1', 'XQ2',\n",
       "       'XQ3', 'XQ4', 'XQ5', 'XQ6', 'XQ7', 'XQ8', 'XQ_EAT_SUM', 'XQ_EAT_AVE(',\n",
       "       'XQ_NOTEAT_SUM', 'XQ_NOTEAT_AVE', 'XQ_TOTAL_SUM', 'XQ_TOTAL_AVE',\n",
       "       'SubmandIpsInitDmean', 'SubmandContInitDmean'],\n",
       "      dtype='object')"
      ]
     },
     "execution_count": 46,
     "metadata": {},
     "output_type": "execute_result"
    }
   ],
   "source": [
    "survey_df.columns\n"
   ]
  },
  {
   "cell_type": "code",
   "execution_count": 47,
   "metadata": {},
   "outputs": [
    {
     "ename": "NameError",
     "evalue": "name 'MDADI_norm' is not defined",
     "output_type": "error",
     "traceback": [
      "\u001b[1;31m---------------------------------------------------------------------------\u001b[0m",
      "\u001b[1;31mNameError\u001b[0m                                 Traceback (most recent call last)",
      "\u001b[1;32m<ipython-input-47-08893e6f91cb>\u001b[0m in \u001b[0;36m<module>\u001b[1;34m\u001b[0m\n\u001b[1;32m----> 1\u001b[1;33m \u001b[0mMDADI_norm\u001b[0m\u001b[1;33m.\u001b[0m\u001b[0mhead\u001b[0m\u001b[1;33m(\u001b[0m\u001b[1;33m)\u001b[0m\u001b[1;33m\u001b[0m\u001b[1;33m\u001b[0m\u001b[0m\n\u001b[0m\u001b[0;32m      2\u001b[0m \u001b[0mcategory_sums_norm\u001b[0m \u001b[1;33m=\u001b[0m \u001b[0mpd\u001b[0m\u001b[1;33m.\u001b[0m\u001b[0mconcat\u001b[0m\u001b[1;33m(\u001b[0m\u001b[1;33m[\u001b[0m\u001b[0mMDADI_norm\u001b[0m\u001b[1;33m,\u001b[0m \u001b[0mMDASI_\u001b[0m\u001b[1;33m]\u001b[0m\u001b[1;33m,\u001b[0m \u001b[0maxis\u001b[0m\u001b[1;33m=\u001b[0m\u001b[1;36m1\u001b[0m\u001b[1;33m)\u001b[0m\u001b[1;33m\u001b[0m\u001b[1;33m\u001b[0m\u001b[0m\n",
      "\u001b[1;31mNameError\u001b[0m: name 'MDADI_norm' is not defined"
     ]
    }
   ],
   "source": [
    "MDADI_norm.head()\n",
    "category_sums_norm = pd.concat([MDADI_norm, MDASI_], axis=1)"
   ]
  },
  {
   "cell_type": "code",
   "execution_count": null,
   "metadata": {},
   "outputs": [],
   "source": []
  },
  {
   "cell_type": "code",
   "execution_count": null,
   "metadata": {},
   "outputs": [],
   "source": [
    "# category_sums = survey_df.loc[:, ['MDASI_CORE_SUM', 'MDASI_HN_SUM', 'MDASI_INT_SUM', \n",
    "#                                'MDASI_TOTAL_SUM', 'MDADI_E_SUM', \n",
    "#                                'MDADI_F_SUM', 'MDADI_P_SUM', \n",
    "#                                'MDADI_TOTAL_SUM', 'XQ_EAT_SUM', 'XQ_NOTEAT_SUM', 'XQ_TOTAL_SUM' ]]\n",
    "category_sums = survey_df.loc[:, ['MDASI_CORE_SUM', 'MDASI_HN_SUM', 'MDASI_INT_SUM', 'MDADI_E_SUM', \n",
    "                               'MDADI_F_SUM', 'MDADI_P_SUM', 'XQ_EAT_SUM', 'XQ_NOTEAT_SUM']]"
   ]
  },
  {
   "cell_type": "code",
   "execution_count": null,
   "metadata": {},
   "outputs": [],
   "source": [
    "corr_table = category_sums.corr()\n",
    "corr_table"
   ]
  },
  {
   "cell_type": "code",
   "execution_count": null,
   "metadata": {},
   "outputs": [],
   "source": [
    "MDASI = survey_df.loc[:, \"MDASI1\":\"MDASI28\"]\n",
    "MDASI = MDASI.dropna()\n",
    "# MDASI.isna().sum()"
   ]
  },
  {
   "cell_type": "code",
   "execution_count": null,
   "metadata": {},
   "outputs": [],
   "source": []
  },
  {
   "cell_type": "code",
   "execution_count": null,
   "metadata": {},
   "outputs": [],
   "source": []
  },
  {
   "cell_type": "code",
   "execution_count": 48,
   "metadata": {},
   "outputs": [
    {
     "ename": "NameError",
     "evalue": "name 'category_sums' is not defined",
     "output_type": "error",
     "traceback": [
      "\u001b[1;31m---------------------------------------------------------------------------\u001b[0m",
      "\u001b[1;31mNameError\u001b[0m                                 Traceback (most recent call last)",
      "\u001b[1;32m<ipython-input-48-41898037ef15>\u001b[0m in \u001b[0;36m<module>\u001b[1;34m\u001b[0m\n\u001b[0;32m      1\u001b[0m \u001b[1;32mfrom\u001b[0m \u001b[0mscipy\u001b[0m\u001b[1;33m.\u001b[0m\u001b[0mstats\u001b[0m \u001b[1;32mimport\u001b[0m \u001b[0mpearsonr\u001b[0m\u001b[1;33m,\u001b[0m \u001b[0mspearmanr\u001b[0m \u001b[1;31m#person linear, spearman non-linear. Spearman used in Tyler paper.\u001b[0m\u001b[1;33m\u001b[0m\u001b[1;33m\u001b[0m\u001b[0m\n\u001b[1;32m----> 2\u001b[1;33m \u001b[0mg\u001b[0m \u001b[1;33m=\u001b[0m \u001b[0msns\u001b[0m\u001b[1;33m.\u001b[0m\u001b[0mpairplot\u001b[0m\u001b[1;33m(\u001b[0m\u001b[0mcategory_sums\u001b[0m\u001b[1;33m,\u001b[0m \u001b[0mkind\u001b[0m\u001b[1;33m=\u001b[0m\u001b[1;34m'reg'\u001b[0m\u001b[1;33m,\u001b[0m \u001b[0mpalette\u001b[0m\u001b[1;33m=\u001b[0m\u001b[1;34m\"Set2\"\u001b[0m\u001b[1;33m)\u001b[0m\u001b[1;33m\u001b[0m\u001b[1;33m\u001b[0m\u001b[0m\n\u001b[0m\u001b[0;32m      3\u001b[0m \u001b[1;32mdef\u001b[0m \u001b[0mcorrfunc\u001b[0m\u001b[1;33m(\u001b[0m\u001b[0mx\u001b[0m\u001b[1;33m,\u001b[0m\u001b[0my\u001b[0m\u001b[1;33m,\u001b[0m \u001b[0max\u001b[0m\u001b[1;33m=\u001b[0m\u001b[1;32mNone\u001b[0m\u001b[1;33m,\u001b[0m \u001b[1;33m**\u001b[0m\u001b[0mkws\u001b[0m\u001b[1;33m)\u001b[0m\u001b[1;33m:\u001b[0m\u001b[1;33m\u001b[0m\u001b[1;33m\u001b[0m\u001b[0m\n\u001b[0;32m      4\u001b[0m     \u001b[1;34m\"\"\"Plot the correlation coefficient in the top left hand corner of a plot.\"\"\"\u001b[0m\u001b[1;33m\u001b[0m\u001b[1;33m\u001b[0m\u001b[0m\n\u001b[0;32m      5\u001b[0m     \u001b[0mr\u001b[0m\u001b[1;33m,\u001b[0m \u001b[0mp\u001b[0m \u001b[1;33m=\u001b[0m \u001b[0mspearmanr\u001b[0m\u001b[1;33m(\u001b[0m\u001b[0mx\u001b[0m\u001b[1;33m,\u001b[0m \u001b[0my\u001b[0m\u001b[1;33m)\u001b[0m\u001b[1;33m\u001b[0m\u001b[1;33m\u001b[0m\u001b[0m\n",
      "\u001b[1;31mNameError\u001b[0m: name 'category_sums' is not defined"
     ]
    }
   ],
   "source": [
    "from scipy.stats import pearsonr, spearmanr #person linear, spearman non-linear. Spearman used in Tyler paper. \n",
    "g = sns.pairplot(category_sums, kind='reg', palette=\"Set2\")\n",
    "def corrfunc(x,y, ax=None, **kws):\n",
    "    \"\"\"Plot the correlation coefficient in the top left hand corner of a plot.\"\"\"\n",
    "    r, p = spearmanr(x, y)\n",
    "    ax = ax or plt.gca()\n",
    "    # Unicode for lowercase rho (ρ)\n",
    "    rho = '\\u03C1'\n",
    "    ax.annotate(f'{rho} = {r:.2f}', xy=(.1, .9), xycoords=ax.transAxes)\n",
    "#     ax.annotate(f'p = {p:.6f}', xy=(.1, .8), xycoords=ax.transAxes)\n",
    "    ax.annotate('p < 0.001', xy=(.1, .8), xycoords=ax.transAxes)\n",
    "#     print('r=', r, 'p=',p)\n",
    "g.map_lower(corrfunc)\n",
    "plt.show()"
   ]
  },
  {
   "cell_type": "markdown",
   "metadata": {},
   "source": [
    "### Shaded area is 95% confidence interval"
   ]
  },
  {
   "cell_type": "code",
   "execution_count": null,
   "metadata": {},
   "outputs": [],
   "source": [
    "fig = plt.figure(figsize=(16,12))\n",
    "sns.heatmap(MDASI)"
   ]
  },
  {
   "cell_type": "code",
   "execution_count": null,
   "metadata": {},
   "outputs": [],
   "source": [
    "# fig = plt.figure(figsize=(16,12))\n",
    "sns.clustermap(MDASI, metric=\"euclidean\", standard_scale=1, method=\"single\")\n",
    "# MDASI.isnull().sum()"
   ]
  },
  {
   "cell_type": "markdown",
   "metadata": {},
   "source": [
    "### Mann-Whitney tests. How similar are the populations?"
   ]
  },
  {
   "cell_type": "code",
   "execution_count": null,
   "metadata": {},
   "outputs": [],
   "source": [
    "df_MDASI = df.loc[:,'MDASI1':'MDASI_TOTAL_AVE']\n",
    "df_MDADI = df.loc[:, 'MDADI1':'MDADI_TOTAL_AVE']\n",
    "df_XQ = df.loc[:, 'XQ1':'XQ_TOTAL_AVE']"
   ]
  },
  {
   "cell_type": "code",
   "execution_count": 2,
   "metadata": {},
   "outputs": [
    {
     "ename": "NameError",
     "evalue": "name 'df_MDASI' is not defined",
     "output_type": "error",
     "traceback": [
      "\u001b[1;31m---------------------------------------------------------------------------\u001b[0m",
      "\u001b[1;31mNameError\u001b[0m                                 Traceback (most recent call last)",
      "\u001b[1;32m<ipython-input-2-2823fae08ddf>\u001b[0m in \u001b[0;36m<module>\u001b[1;34m\u001b[0m\n\u001b[1;32m----> 1\u001b[1;33m \u001b[0mdf_MDASI\u001b[0m\u001b[1;33m.\u001b[0m\u001b[0mcolumns\u001b[0m\u001b[1;33m\u001b[0m\u001b[1;33m\u001b[0m\u001b[0m\n\u001b[0m",
      "\u001b[1;31mNameError\u001b[0m: name 'df_MDASI' is not defined"
     ]
    }
   ],
   "source": [
    "df_MDASI.columns"
   ]
  },
  {
   "cell_type": "code",
   "execution_count": null,
   "metadata": {},
   "outputs": [],
   "source": []
  },
  {
   "cell_type": "code",
   "execution_count": null,
   "metadata": {},
   "outputs": [],
   "source": []
  },
  {
   "cell_type": "code",
   "execution_count": null,
   "metadata": {},
   "outputs": [],
   "source": []
  },
  {
   "cell_type": "code",
   "execution_count": null,
   "metadata": {},
   "outputs": [],
   "source": []
  },
  {
   "cell_type": "code",
   "execution_count": null,
   "metadata": {},
   "outputs": [],
   "source": []
  },
  {
   "cell_type": "code",
   "execution_count": 104,
   "metadata": {},
   "outputs": [
    {
     "name": "stdout",
     "output_type": "stream",
     "text": [
      "Statistics=9418.000, p=0.001\n",
      "Different distribution (reject H0)\n"
     ]
    }
   ],
   "source": [
    "stat, p = mannwhitneyu(df_MDASI['MDASI_TOTAL_SUM'], df_MDADI['MDADI_TOTAL_SUM'])\n",
    "print('Statistics=%.3f, p=%.3f' % (stat, p))\n",
    "# interpret\n",
    "alpha = 0.05\n",
    "if p > alpha:\n",
    "\tprint('Same distribution (fail to reject H0)')\n",
    "else:\n",
    "\tprint('Different distribution (reject H0)')"
   ]
  },
  {
   "cell_type": "code",
   "execution_count": 105,
   "metadata": {},
   "outputs": [
    {
     "name": "stdout",
     "output_type": "stream",
     "text": [
      "Statistics=10139.500, p=0.009\n",
      "Different distribution (reject H0)\n"
     ]
    }
   ],
   "source": [
    "stat, p = mannwhitneyu(df_MDASI['MDASI_TOTAL_SUM'], df_XQ['XQ_TOTAL_SUM'])\n",
    "print('Statistics=%.3f, p=%.3f' % (stat, p))\n",
    "# interpret\n",
    "alpha = 0.05\n",
    "if p > alpha:\n",
    "\tprint('Same distribution (fail to reject H0)')\n",
    "else:\n",
    "\tprint('Different distribution (reject H0)')"
   ]
  },
  {
   "cell_type": "code",
   "execution_count": 106,
   "metadata": {},
   "outputs": [
    {
     "name": "stdout",
     "output_type": "stream",
     "text": [
      "Statistics=10139.500, p=0.009\n",
      "Different distribution (reject H0)\n"
     ]
    }
   ],
   "source": [
    "stat, p = mannwhitneyu(df_MDASI['MDASI_TOTAL_SUM'], df_XQ['XQ_TOTAL_SUM'])\n",
    "print('Statistics=%.3f, p=%.3f' % (stat, p))\n",
    "# interpret\n",
    "alpha = 0.05\n",
    "if p > alpha:\n",
    "\tprint('Same distribution (fail to reject H0)')\n",
    "else:\n",
    "\tprint('Different distribution (reject H0)')"
   ]
  }
 ],
 "metadata": {
  "kernelspec": {
   "display_name": "Python 3",
   "language": "python",
   "name": "python3"
  },
  "language_info": {
   "codemirror_mode": {
    "name": "ipython",
    "version": 3
   },
   "file_extension": ".py",
   "mimetype": "text/x-python",
   "name": "python",
   "nbconvert_exporter": "python",
   "pygments_lexer": "ipython3",
   "version": "3.7.5"
  }
 },
 "nbformat": 4,
 "nbformat_minor": 4
}
